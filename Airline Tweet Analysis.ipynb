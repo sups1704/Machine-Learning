{
 "cells": [
  {
   "cell_type": "markdown",
   "id": "eac937e9",
   "metadata": {},
   "source": [
    "# Sentiment Analysis Exercise\n",
    "\n",
    "In this exercise We implement Sentiment analysis on Airline twitter tweets. The dataset consists of tweets users are doing to an airline. So the tweets can be positive, negative or neutral. \n",
    "We need to build a classifier and assess its accuracy on test data. We will use Logistic Regression to build this classifier.\n",
    "We will need to check if the classes are imbalanced. we will use scoring functions like AUC-ROC scre, F1 score and plotting confusion matrix. We will see how to use AUC scoring for multiclass problems.  \n",
    "We will build another classifier for positive /negative sentiment only and assess the its accuracy.  \n",
    "We will also try interpreting the model by using weights.\n"
   ]
  },
  {
   "cell_type": "code",
   "execution_count": 1,
   "id": "60830031",
   "metadata": {},
   "outputs": [],
   "source": [
    "import pandas as pd\n",
    "import numpy as np\n",
    "import re\n",
    "\n",
    "from nltk.stem import WordNetLemmatizer\n",
    "from nltk import word_tokenize\n",
    "from nltk.corpus import stopwords\n",
    "\n",
    "from sklearn.model_selection import train_test_split\n",
    "from sklearn.feature_extraction.text import TfidfVectorizer, CountVectorizer\n",
    "from sklearn.linear_model import LogisticRegression\n",
    "from sklearn.metrics import roc_auc_score, f1_score, confusion_matrix, classification_report\n",
    "\n",
    "#For data visualisation\n",
    "import matplotlib.pyplot as plt\n",
    "import seaborn as sns\n"
   ]
  },
  {
   "cell_type": "code",
   "execution_count": 2,
   "id": "235e7c1e",
   "metadata": {},
   "outputs": [
    {
     "data": {
      "text/html": [
       "<div>\n",
       "<style scoped>\n",
       "    .dataframe tbody tr th:only-of-type {\n",
       "        vertical-align: middle;\n",
       "    }\n",
       "\n",
       "    .dataframe tbody tr th {\n",
       "        vertical-align: top;\n",
       "    }\n",
       "\n",
       "    .dataframe thead th {\n",
       "        text-align: right;\n",
       "    }\n",
       "</style>\n",
       "<table border=\"1\" class=\"dataframe\">\n",
       "  <thead>\n",
       "    <tr style=\"text-align: right;\">\n",
       "      <th></th>\n",
       "      <th>tweet_id</th>\n",
       "      <th>airline_sentiment</th>\n",
       "      <th>airline_sentiment_confidence</th>\n",
       "      <th>negativereason</th>\n",
       "      <th>negativereason_confidence</th>\n",
       "      <th>airline</th>\n",
       "      <th>airline_sentiment_gold</th>\n",
       "      <th>name</th>\n",
       "      <th>negativereason_gold</th>\n",
       "      <th>retweet_count</th>\n",
       "      <th>text</th>\n",
       "      <th>tweet_coord</th>\n",
       "      <th>tweet_created</th>\n",
       "      <th>tweet_location</th>\n",
       "      <th>user_timezone</th>\n",
       "    </tr>\n",
       "  </thead>\n",
       "  <tbody>\n",
       "    <tr>\n",
       "      <th>0</th>\n",
       "      <td>570306133677760513</td>\n",
       "      <td>neutral</td>\n",
       "      <td>1.0000</td>\n",
       "      <td>NaN</td>\n",
       "      <td>NaN</td>\n",
       "      <td>Virgin America</td>\n",
       "      <td>NaN</td>\n",
       "      <td>cairdin</td>\n",
       "      <td>NaN</td>\n",
       "      <td>0</td>\n",
       "      <td>@VirginAmerica What @dhepburn said.</td>\n",
       "      <td>NaN</td>\n",
       "      <td>2015-02-24 11:35:52 -0800</td>\n",
       "      <td>NaN</td>\n",
       "      <td>Eastern Time (US &amp; Canada)</td>\n",
       "    </tr>\n",
       "    <tr>\n",
       "      <th>1</th>\n",
       "      <td>570301130888122368</td>\n",
       "      <td>positive</td>\n",
       "      <td>0.3486</td>\n",
       "      <td>NaN</td>\n",
       "      <td>0.0000</td>\n",
       "      <td>Virgin America</td>\n",
       "      <td>NaN</td>\n",
       "      <td>jnardino</td>\n",
       "      <td>NaN</td>\n",
       "      <td>0</td>\n",
       "      <td>@VirginAmerica plus you've added commercials t...</td>\n",
       "      <td>NaN</td>\n",
       "      <td>2015-02-24 11:15:59 -0800</td>\n",
       "      <td>NaN</td>\n",
       "      <td>Pacific Time (US &amp; Canada)</td>\n",
       "    </tr>\n",
       "    <tr>\n",
       "      <th>2</th>\n",
       "      <td>570301083672813571</td>\n",
       "      <td>neutral</td>\n",
       "      <td>0.6837</td>\n",
       "      <td>NaN</td>\n",
       "      <td>NaN</td>\n",
       "      <td>Virgin America</td>\n",
       "      <td>NaN</td>\n",
       "      <td>yvonnalynn</td>\n",
       "      <td>NaN</td>\n",
       "      <td>0</td>\n",
       "      <td>@VirginAmerica I didn't today... Must mean I n...</td>\n",
       "      <td>NaN</td>\n",
       "      <td>2015-02-24 11:15:48 -0800</td>\n",
       "      <td>Lets Play</td>\n",
       "      <td>Central Time (US &amp; Canada)</td>\n",
       "    </tr>\n",
       "    <tr>\n",
       "      <th>3</th>\n",
       "      <td>570301031407624196</td>\n",
       "      <td>negative</td>\n",
       "      <td>1.0000</td>\n",
       "      <td>Bad Flight</td>\n",
       "      <td>0.7033</td>\n",
       "      <td>Virgin America</td>\n",
       "      <td>NaN</td>\n",
       "      <td>jnardino</td>\n",
       "      <td>NaN</td>\n",
       "      <td>0</td>\n",
       "      <td>@VirginAmerica it's really aggressive to blast...</td>\n",
       "      <td>NaN</td>\n",
       "      <td>2015-02-24 11:15:36 -0800</td>\n",
       "      <td>NaN</td>\n",
       "      <td>Pacific Time (US &amp; Canada)</td>\n",
       "    </tr>\n",
       "    <tr>\n",
       "      <th>4</th>\n",
       "      <td>570300817074462722</td>\n",
       "      <td>negative</td>\n",
       "      <td>1.0000</td>\n",
       "      <td>Can't Tell</td>\n",
       "      <td>1.0000</td>\n",
       "      <td>Virgin America</td>\n",
       "      <td>NaN</td>\n",
       "      <td>jnardino</td>\n",
       "      <td>NaN</td>\n",
       "      <td>0</td>\n",
       "      <td>@VirginAmerica and it's a really big bad thing...</td>\n",
       "      <td>NaN</td>\n",
       "      <td>2015-02-24 11:14:45 -0800</td>\n",
       "      <td>NaN</td>\n",
       "      <td>Pacific Time (US &amp; Canada)</td>\n",
       "    </tr>\n",
       "  </tbody>\n",
       "</table>\n",
       "</div>"
      ],
      "text/plain": [
       "             tweet_id airline_sentiment  airline_sentiment_confidence  \\\n",
       "0  570306133677760513           neutral                        1.0000   \n",
       "1  570301130888122368          positive                        0.3486   \n",
       "2  570301083672813571           neutral                        0.6837   \n",
       "3  570301031407624196          negative                        1.0000   \n",
       "4  570300817074462722          negative                        1.0000   \n",
       "\n",
       "  negativereason  negativereason_confidence         airline  \\\n",
       "0            NaN                        NaN  Virgin America   \n",
       "1            NaN                     0.0000  Virgin America   \n",
       "2            NaN                        NaN  Virgin America   \n",
       "3     Bad Flight                     0.7033  Virgin America   \n",
       "4     Can't Tell                     1.0000  Virgin America   \n",
       "\n",
       "  airline_sentiment_gold        name negativereason_gold  retweet_count  \\\n",
       "0                    NaN     cairdin                 NaN              0   \n",
       "1                    NaN    jnardino                 NaN              0   \n",
       "2                    NaN  yvonnalynn                 NaN              0   \n",
       "3                    NaN    jnardino                 NaN              0   \n",
       "4                    NaN    jnardino                 NaN              0   \n",
       "\n",
       "                                                text tweet_coord  \\\n",
       "0                @VirginAmerica What @dhepburn said.         NaN   \n",
       "1  @VirginAmerica plus you've added commercials t...         NaN   \n",
       "2  @VirginAmerica I didn't today... Must mean I n...         NaN   \n",
       "3  @VirginAmerica it's really aggressive to blast...         NaN   \n",
       "4  @VirginAmerica and it's a really big bad thing...         NaN   \n",
       "\n",
       "               tweet_created tweet_location               user_timezone  \n",
       "0  2015-02-24 11:35:52 -0800            NaN  Eastern Time (US & Canada)  \n",
       "1  2015-02-24 11:15:59 -0800            NaN  Pacific Time (US & Canada)  \n",
       "2  2015-02-24 11:15:48 -0800      Lets Play  Central Time (US & Canada)  \n",
       "3  2015-02-24 11:15:36 -0800            NaN  Pacific Time (US & Canada)  \n",
       "4  2015-02-24 11:14:45 -0800            NaN  Pacific Time (US & Canada)  "
      ]
     },
     "execution_count": 2,
     "metadata": {},
     "output_type": "execute_result"
    }
   ],
   "source": [
    "df_ = pd.read_csv('AirlineTweets.csv')\n",
    "df_.head()"
   ]
  },
  {
   "cell_type": "code",
   "execution_count": 3,
   "id": "f18a4eaf",
   "metadata": {},
   "outputs": [],
   "source": [
    "df = df_[['airline_sentiment','text']]"
   ]
  },
  {
   "cell_type": "code",
   "execution_count": 4,
   "id": "87177fb4",
   "metadata": {},
   "outputs": [
    {
     "data": {
      "text/html": [
       "<div>\n",
       "<style scoped>\n",
       "    .dataframe tbody tr th:only-of-type {\n",
       "        vertical-align: middle;\n",
       "    }\n",
       "\n",
       "    .dataframe tbody tr th {\n",
       "        vertical-align: top;\n",
       "    }\n",
       "\n",
       "    .dataframe thead th {\n",
       "        text-align: right;\n",
       "    }\n",
       "</style>\n",
       "<table border=\"1\" class=\"dataframe\">\n",
       "  <thead>\n",
       "    <tr style=\"text-align: right;\">\n",
       "      <th></th>\n",
       "      <th>airline_sentiment</th>\n",
       "      <th>text</th>\n",
       "    </tr>\n",
       "  </thead>\n",
       "  <tbody>\n",
       "    <tr>\n",
       "      <th>0</th>\n",
       "      <td>neutral</td>\n",
       "      <td>@VirginAmerica What @dhepburn said.</td>\n",
       "    </tr>\n",
       "    <tr>\n",
       "      <th>1</th>\n",
       "      <td>positive</td>\n",
       "      <td>@VirginAmerica plus you've added commercials t...</td>\n",
       "    </tr>\n",
       "    <tr>\n",
       "      <th>2</th>\n",
       "      <td>neutral</td>\n",
       "      <td>@VirginAmerica I didn't today... Must mean I n...</td>\n",
       "    </tr>\n",
       "    <tr>\n",
       "      <th>3</th>\n",
       "      <td>negative</td>\n",
       "      <td>@VirginAmerica it's really aggressive to blast...</td>\n",
       "    </tr>\n",
       "    <tr>\n",
       "      <th>4</th>\n",
       "      <td>negative</td>\n",
       "      <td>@VirginAmerica and it's a really big bad thing...</td>\n",
       "    </tr>\n",
       "  </tbody>\n",
       "</table>\n",
       "</div>"
      ],
      "text/plain": [
       "  airline_sentiment                                               text\n",
       "0           neutral                @VirginAmerica What @dhepburn said.\n",
       "1          positive  @VirginAmerica plus you've added commercials t...\n",
       "2           neutral  @VirginAmerica I didn't today... Must mean I n...\n",
       "3          negative  @VirginAmerica it's really aggressive to blast...\n",
       "4          negative  @VirginAmerica and it's a really big bad thing..."
      ]
     },
     "execution_count": 4,
     "metadata": {},
     "output_type": "execute_result"
    }
   ],
   "source": [
    "df.head()"
   ]
  },
  {
   "cell_type": "code",
   "execution_count": 5,
   "id": "29c369ec",
   "metadata": {},
   "outputs": [
    {
     "data": {
      "text/plain": [
       "(14640, 2)"
      ]
     },
     "execution_count": 5,
     "metadata": {},
     "output_type": "execute_result"
    }
   ],
   "source": [
    "df.shape"
   ]
  },
  {
   "cell_type": "code",
   "execution_count": 6,
   "id": "130c0dd2",
   "metadata": {},
   "outputs": [
    {
     "data": {
      "text/plain": [
       "airline_sentiment    0\n",
       "text                 0\n",
       "dtype: int64"
      ]
     },
     "execution_count": 6,
     "metadata": {},
     "output_type": "execute_result"
    }
   ],
   "source": [
    "df.isnull().sum()"
   ]
  },
  {
   "cell_type": "markdown",
   "id": "d435caf2",
   "metadata": {},
   "source": [
    "### Preprocessing and cleaning of text data"
   ]
  },
  {
   "cell_type": "code",
   "execution_count": 7,
   "id": "28a85280",
   "metadata": {},
   "outputs": [],
   "source": [
    "def remove_tag_words(text):\n",
    "    result = re.sub('\\@\\w+','',text)\n",
    "    return result\n",
    "\n",
    "def remove_html_in_text(text):\n",
    "    result_wo_chars = re.sub(r'https?://\\S+|www\\.\\S+','', text)\n",
    "    result = re.sub('\\&\\w+','',result_wo_chars)\n",
    "    return result\n",
    "\n",
    "def remove_numbers(text):\n",
    "    result = re.sub(r'\\d+','',text)\n",
    "    return result\n",
    "\n",
    "def lemmatize(text):\n",
    "    lemmatizer = WordNetLemmatizer()\n",
    "    tokens = word_tokenize(text)\n",
    "    lemmas = [lemmatizer.lemmatize(t) for t in tokens]\n",
    "    return \" \".join(lemmas)\n",
    "\n",
    "def remove_stop_words(text):\n",
    "    stop_words = stopwords.words('english')\n",
    "    tokens = word_tokenize(text)\n",
    "    words = [t for t in tokens if t not in stop_words]\n",
    "    return \" \".join(words)\n",
    "\n",
    "def remove_punctuation(text):\n",
    "    punctuation = '!\"#$%&\\'()*+,-./:;<=>?@[\\\\]^_`{|}~'\n",
    "    for punc in punctuation:\n",
    "        text.replace(punc,'')\n",
    "    return text\n",
    "\n",
    "def extract_only_letters(text):\n",
    "    text = re.sub('[^a-zA-Z]+', ' ', text).strip()\n",
    "    return text"
   ]
  },
  {
   "cell_type": "code",
   "execution_count": 8,
   "id": "a764b092",
   "metadata": {
    "scrolled": true
   },
   "outputs": [
    {
     "name": "stderr",
     "output_type": "stream",
     "text": [
      "C:\\Users\\varakhedi\\AppData\\Local\\Temp\\ipykernel_29628\\2042120263.py:1: SettingWithCopyWarning: \n",
      "A value is trying to be set on a copy of a slice from a DataFrame.\n",
      "Try using .loc[row_indexer,col_indexer] = value instead\n",
      "\n",
      "See the caveats in the documentation: https://pandas.pydata.org/pandas-docs/stable/user_guide/indexing.html#returning-a-view-versus-a-copy\n",
      "  df['text'] = df['text'].apply(lambda x: remove_tag_words(x))\n",
      "C:\\Users\\varakhedi\\AppData\\Local\\Temp\\ipykernel_29628\\2042120263.py:2: SettingWithCopyWarning: \n",
      "A value is trying to be set on a copy of a slice from a DataFrame.\n",
      "Try using .loc[row_indexer,col_indexer] = value instead\n",
      "\n",
      "See the caveats in the documentation: https://pandas.pydata.org/pandas-docs/stable/user_guide/indexing.html#returning-a-view-versus-a-copy\n",
      "  df['text'] = df['text'].apply(lambda x: remove_html_in_text(x))\n",
      "C:\\Users\\varakhedi\\AppData\\Local\\Temp\\ipykernel_29628\\2042120263.py:3: SettingWithCopyWarning: \n",
      "A value is trying to be set on a copy of a slice from a DataFrame.\n",
      "Try using .loc[row_indexer,col_indexer] = value instead\n",
      "\n",
      "See the caveats in the documentation: https://pandas.pydata.org/pandas-docs/stable/user_guide/indexing.html#returning-a-view-versus-a-copy\n",
      "  df['text'] = df['text'].apply(lambda x: remove_numbers(x))\n",
      "C:\\Users\\varakhedi\\AppData\\Local\\Temp\\ipykernel_29628\\2042120263.py:4: SettingWithCopyWarning: \n",
      "A value is trying to be set on a copy of a slice from a DataFrame.\n",
      "Try using .loc[row_indexer,col_indexer] = value instead\n",
      "\n",
      "See the caveats in the documentation: https://pandas.pydata.org/pandas-docs/stable/user_guide/indexing.html#returning-a-view-versus-a-copy\n",
      "  df['text'] = df['text'].apply(lambda x: remove_punctuation(x))\n",
      "C:\\Users\\varakhedi\\AppData\\Local\\Temp\\ipykernel_29628\\2042120263.py:5: SettingWithCopyWarning: \n",
      "A value is trying to be set on a copy of a slice from a DataFrame.\n",
      "Try using .loc[row_indexer,col_indexer] = value instead\n",
      "\n",
      "See the caveats in the documentation: https://pandas.pydata.org/pandas-docs/stable/user_guide/indexing.html#returning-a-view-versus-a-copy\n",
      "  df['text'] = df['text'].apply(lambda x: extract_only_letters(x))\n",
      "C:\\Users\\varakhedi\\AppData\\Local\\Temp\\ipykernel_29628\\2042120263.py:6: SettingWithCopyWarning: \n",
      "A value is trying to be set on a copy of a slice from a DataFrame.\n",
      "Try using .loc[row_indexer,col_indexer] = value instead\n",
      "\n",
      "See the caveats in the documentation: https://pandas.pydata.org/pandas-docs/stable/user_guide/indexing.html#returning-a-view-versus-a-copy\n",
      "  df['text'] = df['text'].apply(lambda x: lemmatize(x))\n",
      "C:\\Users\\varakhedi\\AppData\\Local\\Temp\\ipykernel_29628\\2042120263.py:7: SettingWithCopyWarning: \n",
      "A value is trying to be set on a copy of a slice from a DataFrame.\n",
      "Try using .loc[row_indexer,col_indexer] = value instead\n",
      "\n",
      "See the caveats in the documentation: https://pandas.pydata.org/pandas-docs/stable/user_guide/indexing.html#returning-a-view-versus-a-copy\n",
      "  df['text'] = df['text'].apply(lambda x: remove_stop_words(x))\n"
     ]
    }
   ],
   "source": [
    "df['text'] = df['text'].apply(lambda x: remove_tag_words(x))\n",
    "df['text'] = df['text'].apply(lambda x: remove_html_in_text(x))\n",
    "df['text'] = df['text'].apply(lambda x: remove_numbers(x))\n",
    "df['text'] = df['text'].apply(lambda x: remove_punctuation(x))\n",
    "df['text'] = df['text'].apply(lambda x: extract_only_letters(x))\n",
    "df['text'] = df['text'].apply(lambda x: lemmatize(x))\n",
    "df['text'] = df['text'].apply(lambda x: remove_stop_words(x))"
   ]
  },
  {
   "cell_type": "markdown",
   "id": "4e246dc7",
   "metadata": {},
   "source": [
    "#### Checking class imbalance"
   ]
  },
  {
   "cell_type": "code",
   "execution_count": 9,
   "id": "49445f67",
   "metadata": {
    "scrolled": true
   },
   "outputs": [
    {
     "data": {
      "text/plain": [
       "<AxesSubplot:>"
      ]
     },
     "execution_count": 9,
     "metadata": {},
     "output_type": "execute_result"
    },
    {
     "data": {
      "image/png": "[encoded data removed]",
      "text/plain": [
       "<Figure size 432x288 with 1 Axes>"
      ]
     },
     "metadata": {
      "needs_background": "light"
     },
     "output_type": "display_data"
    }
   ],
   "source": [
    "df['airline_sentiment'].hist()"
   ]
  },
  {
   "cell_type": "markdown",
   "id": "8015f90b",
   "metadata": {},
   "source": [
    "The classes are imbalanced towards negative sentiments."
   ]
  },
  {
   "cell_type": "code",
   "execution_count": 10,
   "id": "27fd0b56",
   "metadata": {},
   "outputs": [
    {
     "name": "stderr",
     "output_type": "stream",
     "text": [
      "C:\\Users\\varakhedi\\AppData\\Local\\Temp\\ipykernel_29628\\1205227409.py:2: SettingWithCopyWarning: \n",
      "A value is trying to be set on a copy of a slice from a DataFrame.\n",
      "Try using .loc[row_indexer,col_indexer] = value instead\n",
      "\n",
      "See the caveats in the documentation: https://pandas.pydata.org/pandas-docs/stable/user_guide/indexing.html#returning-a-view-versus-a-copy\n",
      "  df['target'] = df['airline_sentiment'].map(target_map)\n"
     ]
    }
   ],
   "source": [
    "target_map={'negative':0, 'positive': 1, 'neutral': 2}\n",
    "df['target'] = df['airline_sentiment'].map(target_map)"
   ]
  },
  {
   "cell_type": "code",
   "execution_count": 11,
   "id": "52f7e36d",
   "metadata": {},
   "outputs": [
    {
     "name": "stdout",
     "output_type": "stream",
     "text": [
      "(11712, 3)\n",
      "(2928, 3)\n"
     ]
    }
   ],
   "source": [
    "df_train, df_test = train_test_split(df, test_size = 0.2, random_state = 0)\n",
    "print(df_train.shape)\n",
    "print(df_test.shape)"
   ]
  },
  {
   "cell_type": "code",
   "execution_count": 12,
   "id": "f1c6c992",
   "metadata": {},
   "outputs": [
    {
     "data": {
      "text/plain": [
       "<11712x2000 sparse matrix of type '<class 'numpy.float64'>'\n",
       "\twith 91171 stored elements in Compressed Sparse Row format>"
      ]
     },
     "execution_count": 12,
     "metadata": {},
     "output_type": "execute_result"
    }
   ],
   "source": [
    "vectorizer = TfidfVectorizer(max_features = 2000)\n",
    "X_train = vectorizer.fit_transform(df_train['text'])\n",
    "X_train"
   ]
  },
  {
   "cell_type": "code",
   "execution_count": 13,
   "id": "f6f4e234",
   "metadata": {},
   "outputs": [
    {
     "data": {
      "text/plain": [
       "<2928x2000 sparse matrix of type '<class 'numpy.float64'>'\n",
       "\twith 22632 stored elements in Compressed Sparse Row format>"
      ]
     },
     "execution_count": 13,
     "metadata": {},
     "output_type": "execute_result"
    }
   ],
   "source": [
    "X_test = vectorizer.transform(df_test['text'])\n",
    "X_test"
   ]
  },
  {
   "cell_type": "code",
   "execution_count": 14,
   "id": "25b3037f",
   "metadata": {},
   "outputs": [],
   "source": [
    "y_train = df_train['target']\n",
    "y_test = df_test['target']"
   ]
  },
  {
   "cell_type": "code",
   "execution_count": 15,
   "id": "ab4c3e7b",
   "metadata": {},
   "outputs": [
    {
     "data": {
      "text/plain": [
       "LogisticRegression(max_iter=500)"
      ]
     },
     "execution_count": 15,
     "metadata": {},
     "output_type": "execute_result"
    }
   ],
   "source": [
    "model = LogisticRegression(max_iter=500)\n",
    "model.fit(X_train, y_train)"
   ]
  },
  {
   "cell_type": "code",
   "execution_count": 16,
   "id": "5befe448",
   "metadata": {},
   "outputs": [],
   "source": [
    "y_pred = model.predict(X_test)"
   ]
  },
  {
   "cell_type": "markdown",
   "id": "f55422a2",
   "metadata": {},
   "source": [
    "#### Lets check the performance of the model"
   ]
  },
  {
   "cell_type": "code",
   "execution_count": 17,
   "id": "d3588d8a",
   "metadata": {},
   "outputs": [
    {
     "data": {
      "image/png": "[encoded data removed]",
      "text/plain": [
       "<Figure size 432x288 with 2 Axes>"
      ]
     },
     "metadata": {
      "needs_background": "light"
     },
     "output_type": "display_data"
    }
   ],
   "source": [
    "cm = confusion_matrix(y_test, y_pred)\n",
    "sns.heatmap(cm, annot = True, cmap = 'Wistia', fmt = '.8g')\n",
    "plt.xlabel('Predicted Values',fontsize = 12)\n",
    "plt.ylabel('Actual Values', fontsize = 12)\n",
    "plt.title('Confusion Matrix', fontsize = 14)\n",
    "plt.show()"
   ]
  },
  {
   "cell_type": "code",
   "execution_count": 18,
   "id": "86531b32",
   "metadata": {},
   "outputs": [
    {
     "name": "stdout",
     "output_type": "stream",
     "text": [
      "Classification report - \n",
      "\n",
      "               precision    recall  f1-score   support\n",
      "\n",
      "           0       0.82      0.92      0.87      1870\n",
      "           1       0.79      0.60      0.68       444\n",
      "           2       0.66      0.52      0.58       614\n",
      "\n",
      "    accuracy                           0.79      2928\n",
      "   macro avg       0.76      0.68      0.71      2928\n",
      "weighted avg       0.78      0.79      0.78      2928\n",
      "\n"
     ]
    }
   ],
   "source": [
    "print(\"Classification report - \\n\\n\", classification_report(y_test,y_pred))"
   ]
  },
  {
   "cell_type": "code",
   "execution_count": 19,
   "id": "e27e14c6",
   "metadata": {},
   "outputs": [],
   "source": [
    "y_proba = model.predict_proba(X_test)\n",
    "roc_auc_score(y_test, y_proba, multi_class = 'ovo')"
   ]
  },
  {
   "cell_type": "markdown",
   "id": "0bd1a30d",
   "metadata": {},
   "source": [
    "## Binary labels and model interpretation"
   ]
  },
  {
   "cell_type": "code",
   "execution_count": 22,
   "id": "7e319cb1",
   "metadata": {},
   "outputs": [],
   "source": [
    "binary_target_list = [target_map['positive'],target_map['negative']]\n",
    "df_binary_train = df_train[df_train['target'].isin(binary_target_list)]\n",
    "df_binary_test = df_test[df_test['target'].isin(binary_target_list)]"
   ]
  },
  {
   "cell_type": "code",
   "execution_count": 23,
   "id": "f89577db",
   "metadata": {},
   "outputs": [],
   "source": [
    "X_b_train = vectorizer.fit_transform(df_binary_train['text'])\n",
    "X_b_test = vectorizer.transform(df_binary_test['text'])"
   ]
  },
  {
   "cell_type": "code",
   "execution_count": 24,
   "id": "f75c586e",
   "metadata": {},
   "outputs": [],
   "source": [
    "y_b_train = df_binary_train['target']\n",
    "y_b_test = df_binary_test['target']"
   ]
  },
  {
   "cell_type": "code",
   "execution_count": 25,
   "id": "8167156c",
   "metadata": {},
   "outputs": [],
   "source": [
    "model = LogisticRegression(max_iter = 500)\n",
    "model.fit(X_b_train, y_b_train)\n",
    "y_b_pred = model.predict(X_b_test)"
   ]
  },
  {
   "cell_type": "markdown",
   "id": "74cf723a",
   "metadata": {},
   "source": [
    "#### Model performance for Binary classification"
   ]
  },
  {
   "cell_type": "code",
   "execution_count": 26,
   "id": "0a1b92c0",
   "metadata": {},
   "outputs": [
    {
     "data": {
      "image/png": "[encoded data removed]",
      "text/plain": [
       "<Figure size 432x288 with 2 Axes>"
      ]
     },
     "metadata": {
      "needs_background": "light"
     },
     "output_type": "display_data"
    }
   ],
   "source": [
    "cm_b = confusion_matrix(y_b_test,y_b_pred)\n",
    "sns.heatmap(cm_b, annot = True, cmap = 'Wistia', fmt = '.8g')\n",
    "plt.xlabel('Predicted Values',fontsize = 12)\n",
    "plt.ylabel('Actual Values', fontsize = 12)\n",
    "plt.title('Confusion Matrix', fontsize = 14)\n",
    "plt.show()"
   ]
  },
  {
   "cell_type": "code",
   "execution_count": 27,
   "id": "d6bf749e",
   "metadata": {},
   "outputs": [
    {
     "name": "stdout",
     "output_type": "stream",
     "text": [
      "Classification report - \n",
      "\n",
      "               precision    recall  f1-score   support\n",
      "\n",
      "           0       0.91      0.98      0.95      1870\n",
      "           1       0.90      0.59      0.72       444\n",
      "\n",
      "    accuracy                           0.91      2314\n",
      "   macro avg       0.90      0.79      0.83      2314\n",
      "weighted avg       0.91      0.91      0.90      2314\n",
      "\n"
     ]
    }
   ],
   "source": [
    "print(\"Classification report - \\n\\n\", classification_report(y_b_test,y_b_pred))"
   ]
  },
  {
   "cell_type": "code",
   "execution_count": 28,
   "id": "72c1b254",
   "metadata": {},
   "outputs": [
    {
     "data": {
      "text/plain": [
       "0.9468727417256829"
      ]
     },
     "execution_count": 28,
     "metadata": {},
     "output_type": "execute_result"
    }
   ],
   "source": [
    "y_b_proba = model.predict_proba(X_b_test)\n",
    "roc_auc_score(y_b_test, y_b_proba[:,1] )"
   ]
  },
  {
   "cell_type": "markdown",
   "id": "d7377e83",
   "metadata": {},
   "source": [
    "We can see the model performs well on Binary data"
   ]
  },
  {
   "cell_type": "markdown",
   "id": "261722f7",
   "metadata": {},
   "source": [
    "### Model Interpretation"
   ]
  },
  {
   "cell_type": "code",
   "execution_count": 29,
   "id": "6225cb2a",
   "metadata": {},
   "outputs": [
    {
     "data": {
      "text/plain": [
       "array([[-0.76816521,  0.92613268,  0.50055774, ..., -0.04207246,\n",
       "        -0.4628063 , -0.30212279]])"
      ]
     },
     "execution_count": 29,
     "metadata": {},
     "output_type": "execute_result"
    }
   ],
   "source": [
    "model.coef_"
   ]
  },
  {
   "cell_type": "code",
   "execution_count": 35,
   "id": "d1dba1df",
   "metadata": {},
   "outputs": [
    {
     "data": {
      "text/plain": [
       "(array([  1.,   0.,   0.,   2.,   7.,   2.,  24.,  35., 116., 421., 780.,\n",
       "        331., 168.,  67.,  21.,  12.,   1.,   2.,   3.,   1.,   2.,   1.,\n",
       "          0.,   1.,   0.,   0.,   0.,   0.,   0.,   2.]),\n",
       " array([-4.52600962, -4.10656689, -3.68712416, -3.26768143, -2.84823871,\n",
       "        -2.42879598, -2.00935325, -1.58991052, -1.17046779, -0.75102506,\n",
       "        -0.33158234,  0.08786039,  0.50730312,  0.92674585,  1.34618858,\n",
       "         1.76563131,  2.18507403,  2.60451676,  3.02395949,  3.44340222,\n",
       "         3.86284495,  4.28228767,  4.7017304 ,  5.12117313,  5.54061586,\n",
       "         5.96005859,  6.37950132,  6.79894404,  7.21838677,  7.6378295 ,\n",
       "         8.05727223]),\n",
       " <BarContainer object of 30 artists>)"
      ]
     },
     "execution_count": 35,
     "metadata": {},
     "output_type": "execute_result"
    },
    {
     "data": {
      "image/png": "[encoded data removed]",
      "text/plain": [
       "<Figure size 432x288 with 1 Axes>"
      ]
     },
     "metadata": {
      "needs_background": "light"
     },
     "output_type": "display_data"
    }
   ],
   "source": [
    "plt.hist(model.coef_[0], bins = 30)"
   ]
  },
  {
   "cell_type": "markdown",
   "id": "6423a19c",
   "metadata": {},
   "source": [
    "Most of the weights are centred around and between -2 - 2. There are some outliers  beyond that too."
   ]
  },
  {
   "cell_type": "markdown",
   "id": "7ce78132",
   "metadata": {},
   "source": [
    "#### using the coeeficients to find most positive and most negative words"
   ]
  },
  {
   "cell_type": "code",
   "execution_count": 42,
   "id": "ad94cbe1",
   "metadata": {},
   "outputs": [
    {
     "name": "stdout",
     "output_type": "stream",
     "text": [
      "Most positive words ---- \n",
      "\n",
      "awesome 4.190676615924713\n",
      "great 5.241346073904861\n",
      "thank 8.05727222883735\n",
      "appreciate 2.8434452769765253\n",
      "love 4.451417429595945\n",
      "good 3.045842002178882\n",
      "thanks 7.664095334564186\n",
      "excellent 2.8443788331340647\n",
      "best 4.279021037827864\n",
      "amazing 3.778205175463241\n",
      "kudos 3.0632233558872977\n",
      "thx 3.1697834024929166\n",
      "worry 2.060734294540859\n",
      "cool 2.142288996346278\n",
      "excited 2.1901586056597817\n",
      "wonderful 2.113989583118338\n"
     ]
    }
   ],
   "source": [
    "threshold = 2\n",
    "word_index_map = vectorizer.vocabulary_\n",
    "print(\"Most positive words ---- \\n\")\n",
    "for word, index in word_index_map.items():\n",
    "    weight = model.coef_[0][index]\n",
    "    if weight > threshold:\n",
    "        print(word, weight)"
   ]
  },
  {
   "cell_type": "code",
   "execution_count": 43,
   "id": "6aca9f55",
   "metadata": {},
   "outputs": [
    {
     "name": "stdout",
     "output_type": "stream",
     "text": [
      "Most negative words ---- \n",
      "\n",
      "bag -2.5762742223888884\n",
      "hour -4.526009618143905\n",
      "cancelled -2.671307424666809\n",
      "delay -2.3528502786929057\n",
      "call -2.4440055408820993\n",
      "hold -2.866638183517669\n",
      "worst -3.1011139251107362\n",
      "delayed -2.635252716742937\n",
      "rude -2.219761703065411\n",
      "luggage -2.510609368227611\n",
      "hr -2.5484584572310283\n",
      "nothing -2.659809437971857\n"
     ]
    }
   ],
   "source": [
    "print(\"Most negative words ---- \\n\")\n",
    "for word, index in word_index_map.items():\n",
    "    weight = model.coef_[0][index]\n",
    "    if weight < -threshold:\n",
    "        print(word, weight)"
   ]
  }
 ],
 "metadata": {
  "kernelspec": {
   "display_name": "Python 3 (ipykernel)",
   "language": "python",
   "name": "python3"
  },
  "language_info": {
   "codemirror_mode": {
    "name": "ipython",
    "version": 3
   },
   "file_extension": ".py",
   "mimetype": "text/x-python",
   "name": "python",
   "nbconvert_exporter": "python",
   "pygments_lexer": "ipython3",
   "version": "3.8.8"
  }
 },
 "nbformat": 4,
 "nbformat_minor": 5
}
